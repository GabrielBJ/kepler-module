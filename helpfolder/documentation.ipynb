{
 "cells": [
  {
   "cell_type": "code",
   "execution_count": 1,
   "id": "d48ed146",
   "metadata": {},
   "outputs": [],
   "source": [
    "import odekepler.kepler as kp"
   ]
  },
  {
   "cell_type": "code",
   "execution_count": 2,
   "id": "4735211d",
   "metadata": {},
   "outputs": [
    {
     "name": "stdout",
     "output_type": "stream",
     "text": [
      "Help on function initialise_system in module odekepler.kepler:\n",
      "\n",
      "initialise_system(e, T, save_dir='')\n",
      "    Function that initialises the system and plots it.\n",
      "    \n",
      "    Arguments:\n",
      "    _________\n",
      "    \n",
      "    e           eccentricity of the orbit\n",
      "    T           period of the orbit in years\n",
      "    save_dir    directory to save the initial system plot (default is '')\n",
      "\n"
     ]
    }
   ],
   "source": [
    "# initialising a system \n",
    "\n",
    "help(kp.initialise_system)"
   ]
  },
  {
   "cell_type": "code",
   "execution_count": 3,
   "id": "c183b709",
   "metadata": {},
   "outputs": [
    {
     "name": "stdout",
     "output_type": "stream",
     "text": [
      "Help on function RK2 in module odekepler.kepler:\n",
      "\n",
      "RK2(system, t_step, save_dir='')\n",
      "    Method that integrates the system using the RK2 method and saves the orbit in the provided directory. If no directory is provided, it will save the file in the current directory.\n",
      "    \n",
      "    Arguments:\n",
      "    _________\n",
      "    \n",
      "    system      instance of the TwoBodySimulation class containing the system to be integrated\n",
      "    t_step      time step in days\n",
      "    save_dir    directory to save the integrated orbit (default is './RK2_integrated_orbit.txt')\n",
      "    \n",
      "    Returns:\n",
      "    _______\n",
      "    \n",
      "    orbit       array containing the integrated orbit (x, y, vx, vy) in SI units\n",
      "\n"
     ]
    }
   ],
   "source": [
    "# integrating a system RK2 RK3 RK4\n",
    "\n",
    "help(kp.RKIntegrate.RK2)"
   ]
  },
  {
   "cell_type": "code",
   "execution_count": 4,
   "id": "20446873",
   "metadata": {},
   "outputs": [
    {
     "name": "stdout",
     "output_type": "stream",
     "text": [
      "Help on function RK3 in module odekepler.kepler:\n",
      "\n",
      "RK3(system, t_step, save_dir='')\n",
      "    Method that integrates the system using the RK3 method, and saves \n",
      "    the orbit in the provided directory. If no directory is provided, \n",
      "    it will save the file in the current directory.  \n",
      "    \n",
      "    Arguments:\n",
      "    _________\n",
      "    \n",
      "    system      instance of the TwoBodySimulation class containing the system to be integrated\n",
      "    t_step      time step in days\n",
      "    save_dir    directory to save the integrated orbit (default is './RK3_integrated_orbit.txt')\n",
      "    \n",
      "    Returns:\n",
      "    _______\n",
      "    \n",
      "    orbit       array containing the integrated orbit (x, y, vx, vy) in SI units\n",
      "\n"
     ]
    }
   ],
   "source": [
    "help(kp.RKIntegrate.RK3)"
   ]
  },
  {
   "cell_type": "code",
   "execution_count": 5,
   "id": "c8596f34",
   "metadata": {},
   "outputs": [
    {
     "name": "stdout",
     "output_type": "stream",
     "text": [
      "Help on function RK4 in module odekepler.kepler:\n",
      "\n",
      "RK4(system, t_step, save_dir='')\n",
      "    Method that integrates the system using the RK4 method, and saves the orbit in the provided directory. If no directory is provided, it will save the file in the current directory.\n",
      "    \n",
      "    Arguments:\n",
      "    _________\n",
      "    \n",
      "    system      instance of the TwoBodySimulation class containing the system to be integrated\n",
      "    t_step      time step in days\n",
      "    save_dir    directory to save the integrated orbit (default is './RK4_integrated_orbit.txt')\n",
      "    \n",
      "    Returns:\n",
      "    _______\n",
      "    \n",
      "    orbit       array containing the integrated orbit (x, y, vx, vy) in SI units\n",
      "\n"
     ]
    }
   ],
   "source": [
    "help(kp.RKIntegrate.RK4)"
   ]
  },
  {
   "cell_type": "code",
   "execution_count": 6,
   "id": "5f6d3bd3",
   "metadata": {},
   "outputs": [
    {
     "name": "stdout",
     "output_type": "stream",
     "text": [
      "Help on function animation_orbit in module odekepler.kepler:\n",
      "\n",
      "animation_orbit(orbit, e, save_dir='')\n",
      "    Function that animates the integrated orbit and saves the gif in the provided directory. If no directory is provided, it will save the file in the current directory.\n",
      "    \n",
      "    Arguments:\n",
      "    _________\n",
      "    \n",
      "    orbit       array containing the integrated orbit (x, y, vx, vy) in SI units\n",
      "    e           eccentricity of the orbit\n",
      "    save_dir    directory to save the gif of the orbit (default is \"./orbit.gif\")\n",
      "\n"
     ]
    }
   ],
   "source": [
    "# generate the animation of the orbit \n",
    "\n",
    "help(kp.animation_orbit)"
   ]
  },
  {
   "cell_type": "code",
   "execution_count": 7,
   "id": "c9fdf88e",
   "metadata": {},
   "outputs": [
    {
     "name": "stdout",
     "output_type": "stream",
     "text": [
      "Help on function time_array in module odekepler.kepler:\n",
      "\n",
      "time_array(T, dt)\n",
      "    Function that computes the time array given the period of the orbit and the time step.\n",
      "    \n",
      "    Arguments:\n",
      "    _________\n",
      "    \n",
      "    T       period of the orbit in years\n",
      "    dt      time step in years\n",
      "    \n",
      "    Returns:\n",
      "    _______\n",
      "    \n",
      "    t       time array in years\n",
      "\n"
     ]
    }
   ],
   "source": [
    "# getting the time array \n",
    "\n",
    "help(kp.time_array)"
   ]
  },
  {
   "cell_type": "code",
   "execution_count": 8,
   "id": "d9cb6d28",
   "metadata": {},
   "outputs": [
    {
     "name": "stdout",
     "output_type": "stream",
     "text": [
      "Help on function orbit_error in module odekepler.kepler:\n",
      "\n",
      "orbit_error(*orbits)\n",
      "    Function that computes the radius of an orbit after a period T= 1 year.\n",
      "    \n",
      "    Arguments:\n",
      "    _________\n",
      "    \n",
      "    *orbits      array containing the different orbits to be compared\n",
      "    \n",
      "    Returns:\n",
      "    _______\n",
      "    \n",
      "    r            array containing the radius of the orbits after a period T = 1 year\n",
      "\n"
     ]
    }
   ],
   "source": [
    "# error analysis function \n",
    "\n",
    "help(kp.orbit_error)"
   ]
  }
 ],
 "metadata": {
  "kernelspec": {
   "display_name": "Python 3 (ipykernel)",
   "language": "python",
   "name": "python3"
  },
  "language_info": {
   "codemirror_mode": {
    "name": "ipython",
    "version": 3
   },
   "file_extension": ".py",
   "mimetype": "text/x-python",
   "name": "python",
   "nbconvert_exporter": "python",
   "pygments_lexer": "ipython3",
   "version": "3.9.18"
  }
 },
 "nbformat": 4,
 "nbformat_minor": 5
}
